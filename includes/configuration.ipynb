{
 "cells": [
  {
   "cell_type": "code",
   "execution_count": 0,
   "metadata": {
    "application/vnd.databricks.v1+cell": {
     "cellMetadata": {
      "byteLimit": 2048000,
      "rowLimit": 10000
     },
     "inputWidgets": {},
     "nuid": "b9b0022b-0c1c-4644-beee-405adbcd87df",
     "showTitle": false,
     "tableResultSettingsMap": {},
     "title": ""
    }
   },
   "outputs": [],
   "source": [
    "raw_folder_path = \"/mnt/f1dlportfolio/raw\"\n",
    "processed_folder_path = \"/mnt/f1dlportfolio/processed\"\n",
    "presentation_folder_path = \"/mnt/f1dlportfolio/presentation\"\n",
    "presentation_bis_folder_path = \"/mnt/f1dlportfolio/presentation-bis\""
   ]
  },
  {
   "cell_type": "code",
   "execution_count": 0,
   "metadata": {
    "application/vnd.databricks.v1+cell": {
     "cellMetadata": {},
     "inputWidgets": {},
     "nuid": "530441b5-93e2-4b95-a841-50a6de341b49",
     "showTitle": false,
     "tableResultSettingsMap": {},
     "title": ""
    }
   },
   "outputs": [],
   "source": [
    "# si il n'a pas de mount (ou accès à Azure AD)\n",
    "# raw_folder_path = \"adbfs://raw@f1dlportfolio.dfs.core.windows.net\"\n",
    "# processed_folder_path = \"adbfs://processed@f1dlportfolio.dfs.core.windows.net\"\n",
    "# presentation_folder_path = \"adbfs://presentation@f1dlportfolio.dfs.core.windows.net\""
   ]
  }
 ],
 "metadata": {
  "application/vnd.databricks.v1+notebook": {
   "computePreferences": null,
   "dashboards": [],
   "environmentMetadata": {
    "base_environment": "",
    "environment_version": "2"
   },
   "language": "python",
   "notebookMetadata": {
    "pythonIndentUnit": 4
   },
   "notebookName": "configuration",
   "widgets": {}
  },
  "language_info": {
   "name": "python"
  }
 },
 "nbformat": 4,
 "nbformat_minor": 0
}
