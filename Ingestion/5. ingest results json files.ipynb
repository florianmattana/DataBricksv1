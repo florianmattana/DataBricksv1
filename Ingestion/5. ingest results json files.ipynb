{
 "cells": [
  {
   "cell_type": "markdown",
   "metadata": {
    "application/vnd.databricks.v1+cell": {
     "cellMetadata": {
      "byteLimit": 2048000,
      "rowLimit": 10000
     },
     "inputWidgets": {},
     "nuid": "75f307b5-9112-4eec-aba1-0f275d4e80d4",
     "showTitle": false,
     "tableResultSettingsMap": {},
     "title": ""
    }
   },
   "source": [
    "Ingest Results.json file"
   ]
  },
  {
   "cell_type": "code",
   "execution_count": 0,
   "metadata": {
    "application/vnd.databricks.v1+cell": {
     "cellMetadata": {
      "byteLimit": 2048000,
      "rowLimit": 10000
     },
     "inputWidgets": {},
     "nuid": "d2318990-1bb2-4062-a916-71cbd59a07c7",
     "showTitle": true,
     "tableResultSettingsMap": {},
     "title": "- Define Results Schema with Column Types (comment)"
    }
   },
   "outputs": [],
   "source": [
    "####  results_schema = (\"resultsID INT\", \"raceId INT\", \"driverId INT\", \"constructorId INT\",\"number INT\", \"grid INT\", \"position INT\", \"positionText STRING\",\"positionOrder INT\",\"points FLOAT\", \"laps INT\", \"time STRING\", \"milliseconds INT\", \"fastestLap INT\", \"rank INT\",\"fastestLapTime STRING\",\"fastestLapSpeed STRING\",\"statusId INT\")"
   ]
  },
  {
   "cell_type": "code",
   "execution_count": 0,
   "metadata": {
    "application/vnd.databricks.v1+cell": {
     "cellMetadata": {
      "byteLimit": 2048000,
      "rowLimit": 10000
     },
     "inputWidgets": {},
     "nuid": "9cb712a3-e467-4729-9ffc-9c3e38ec341e",
     "showTitle": true,
     "tableResultSettingsMap": {},
     "title": "- Define Schema with StructType and StructField"
    }
   },
   "outputs": [],
   "source": [
    "from pyspark.sql.types import StructType, StructField, StringType, IntegerType, FloatType"
   ]
  },
  {
   "cell_type": "code",
   "execution_count": 0,
   "metadata": {
    "application/vnd.databricks.v1+cell": {
     "cellMetadata": {
      "byteLimit": 2048000,
      "rowLimit": 10000
     },
     "inputWidgets": {},
     "nuid": "5f883f29-ed9a-443f-aa60-48e2dc122f76",
     "showTitle": true,
     "tableResultSettingsMap": {},
     "title": "- Define Schema for Results DataFrame"
    }
   },
   "outputs": [],
   "source": [
    "results_schema = StructType(fields=[StructField(\"resultsID\", IntegerType(), True), \n",
    "                                    StructField(\"raceId\", IntegerType(), True), \n",
    "                                    StructField(\"driverId\", IntegerType(), True), \n",
    "                                    StructField(\"constructorId\", IntegerType(), True), \n",
    "                                    StructField(\"number\", IntegerType(), True), \n",
    "                                    StructField(\"grid\", IntegerType(), True), \n",
    "                                    StructField(\"position\", IntegerType(), True), \n",
    "                                    StructField(\"positionText\", StringType(), True), \n",
    "                                    StructField(\"positionOrder\", IntegerType(), True), \n",
    "                                    StructField(\"points\", FloatType(), True), \n",
    "                                    StructField(\"laps\", IntegerType(), True), \n",
    "                                    StructField(\"time\", StringType(), True), \n",
    "                                    StructField(\"milliseconds\", IntegerType(), True), \n",
    "                                    StructField(\"fastestLap\", IntegerType(), True), \n",
    "                                    StructField(\"rank\", IntegerType(), True), \n",
    "                                    StructField(\"fastestLapTime\", StringType(), True), \n",
    "                                    StructField(\"fastestLapSpeed\", StringType(), True), \n",
    "                                    StructField(\"statusId\", IntegerType(), True)\n",
    "                                    ]\n",
    "                            )"
   ]
  },
  {
   "cell_type": "code",
   "execution_count": 0,
   "metadata": {
    "application/vnd.databricks.v1+cell": {
     "cellMetadata": {
      "byteLimit": 2048000,
      "rowLimit": 10000
     },
     "inputWidgets": {},
     "nuid": "7f2d5c76-e147-41e9-847e-2b2a793d216a",
     "showTitle": true,
     "tableResultSettingsMap": {},
     "title": "- Read JSON Data into Spark DataFrame"
    }
   },
   "outputs": [],
   "source": [
    "results_df = spark.read.schema(results_schema).json(\"/mnt/f1dlportfolio/raw/results.json\")"
   ]
  },
  {
   "cell_type": "code",
   "execution_count": 0,
   "metadata": {
    "application/vnd.databricks.v1+cell": {
     "cellMetadata": {
      "byteLimit": 2048000,
      "rowLimit": 10000
     },
     "inputWidgets": {},
     "nuid": "12849134-e919-4b43-86eb-cffb3abc186a",
     "showTitle": true,
     "tableResultSettingsMap": {},
     "title": "- Import Current Timestamp Function from PySpark"
    }
   },
   "outputs": [],
   "source": [
    "from pyspark.sql.functions import current_timestamp"
   ]
  },
  {
   "cell_type": "code",
   "execution_count": 0,
   "metadata": {
    "application/vnd.databricks.v1+cell": {
     "cellMetadata": {
      "byteLimit": 2048000,
      "rowLimit": 10000
     },
     "inputWidgets": {},
     "nuid": "0a63b749-4922-48d8-9efc-bb3d2c2155a3",
     "showTitle": true,
     "tableResultSettingsMap": {},
     "title": "- Rename Columns and Add Timestamp to Results DataFrame"
    }
   },
   "outputs": [],
   "source": [
    "results_df_with_columnsRenamed = results_df.withColumnRenamed(\"resultsID\", \"result_id\").withColumnRenamed(\"raceId\", \"race_id\").withColumnRenamed(\"driverId\", \"driver_id\").withColumnRenamed(\"constructorId\", \"constructor_id\").withColumnRenamed(\"positionText\", \"position_text\").withColumnRenamed(\"positionOrder\", \"position_order\").withColumnRenamed(\"fastestLap\", \"fastest_lap\").withColumnRenamed(\"fastestLapTime\", \"fastest_lap_time\").withColumnRenamed(\"fastestLapSpeed\", \"fastest_lap_speed\").withColumn(\"ingestion_date\", current_timestamp())"
   ]
  },
  {
   "cell_type": "code",
   "execution_count": 0,
   "metadata": {
    "application/vnd.databricks.v1+cell": {
     "cellMetadata": {
      "byteLimit": 2048000,
      "rowLimit": 10000
     },
     "inputWidgets": {},
     "nuid": "f6e49f10-4ac1-4080-ab83-ec879edcca35",
     "showTitle": true,
     "tableResultSettingsMap": {},
     "title": "- Import Column Function from PySpark"
    }
   },
   "outputs": [],
   "source": [
    "from pyspark.sql.functions import col"
   ]
  },
  {
   "cell_type": "code",
   "execution_count": 0,
   "metadata": {
    "application/vnd.databricks.v1+cell": {
     "cellMetadata": {
      "byteLimit": 2048000,
      "rowLimit": 10000
     },
     "inputWidgets": {},
     "nuid": "f26222a4-8eca-493b-bab6-719a550fd950",
     "showTitle": true,
     "tableResultSettingsMap": {},
     "title": "Remove statusId Column from Results DataFrame"
    }
   },
   "outputs": [],
   "source": [
    "result_final_df = results_df_with_columnsRenamed.drop(col(\"statusId\"))"
   ]
  },
  {
   "cell_type": "code",
   "execution_count": 0,
   "metadata": {
    "application/vnd.databricks.v1+cell": {
     "cellMetadata": {
      "byteLimit": 2048000,
      "rowLimit": 10000
     },
     "inputWidgets": {},
     "nuid": "8e4a38a8-8b19-407d-87da-02c932d6ead9",
     "showTitle": true,
     "tableResultSettingsMap": {},
     "title": "Display Final DataFrame Results"
    }
   },
   "outputs": [],
   "source": [
    "display(result_final_df)"
   ]
  },
  {
   "cell_type": "code",
   "execution_count": 0,
   "metadata": {
    "application/vnd.databricks.v1+cell": {
     "cellMetadata": {
      "byteLimit": 2048000,
      "rowLimit": 10000
     },
     "inputWidgets": {},
     "nuid": "d35e0bdb-c057-42be-8f14-212c8caa3735",
     "showTitle": false,
     "tableResultSettingsMap": {},
     "title": ""
    }
   },
   "outputs": [],
   "source": [
    "result_final_df.write.mode(\"overwrite\").partitionBy(\"race_id\").parquet(\"/mnt/f1dlportfolio/processed/results\")"
   ]
  }
 ],
 "metadata": {
  "application/vnd.databricks.v1+notebook": {
   "computePreferences": null,
   "dashboards": [],
   "environmentMetadata": {
    "base_environment": "",
    "environment_version": "2"
   },
   "language": "python",
   "notebookMetadata": {
    "pythonIndentUnit": 4
   },
   "notebookName": "5. ingest results json files",
   "widgets": {}
  },
  "language_info": {
   "name": "python"
  }
 },
 "nbformat": 4,
 "nbformat_minor": 0
}
