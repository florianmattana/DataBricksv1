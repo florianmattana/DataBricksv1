{
 "cells": [
  {
   "cell_type": "markdown",
   "metadata": {
    "application/vnd.databricks.v1+cell": {
     "cellMetadata": {
      "byteLimit": 2048000,
      "rowLimit": 10000
     },
     "inputWidgets": {},
     "nuid": "1c3c310d-8762-490e-8e5a-e8b14a5ed657",
     "showTitle": false,
     "tableResultSettingsMap": {},
     "title": ""
    }
   },
   "source": [
    "Spark Join Transformation"
   ]
  },
  {
   "cell_type": "code",
   "execution_count": 0,
   "metadata": {
    "application/vnd.databricks.v1+cell": {
     "cellMetadata": {
      "byteLimit": 2048000,
      "rowLimit": 10000
     },
     "inputWidgets": {},
     "nuid": "95824287-15e4-4731-9011-454ff983f2a3",
     "showTitle": true,
     "tableResultSettingsMap": {},
     "title": "Load Configuration Settings"
    }
   },
   "outputs": [],
   "source": [
    "%run \"../includes/configuration\""
   ]
  },
  {
   "cell_type": "code",
   "execution_count": 0,
   "metadata": {
    "application/vnd.databricks.v1+cell": {
     "cellMetadata": {
      "byteLimit": 2048000,
      "rowLimit": 10000
     },
     "inputWidgets": {},
     "nuid": "5a71562a-6824-4144-96da-fd4838f70142",
     "showTitle": true,
     "tableResultSettingsMap": {},
     "title": "Read and Rename Columns in Circuit DataFrame"
    }
   },
   "outputs": [],
   "source": [
    "circuit_df = spark.read.parquet(f\"{processed_folder_path}/circuits\").withColumnRenamed(\"name\", \"circuit_name\")"
   ]
  },
  {
   "cell_type": "code",
   "execution_count": 0,
   "metadata": {
    "application/vnd.databricks.v1+cell": {
     "cellMetadata": {
      "byteLimit": 2048000,
      "rowLimit": 10000
     },
     "inputWidgets": {},
     "nuid": "ee69cd98-b772-4239-87e6-76dbe7558525",
     "showTitle": true,
     "tableResultSettingsMap": {},
     "title": "Load 2019 Races Data with Renamed Column"
    }
   },
   "outputs": [],
   "source": [
    "races_df = spark.read.parquet(f\"{processed_folder_path}/races\").withColumnRenamed(\"name\", \"race_name\").filter(\"race_year == 2019\")"
   ]
  },
  {
   "cell_type": "code",
   "execution_count": 0,
   "metadata": {
    "application/vnd.databricks.v1+cell": {
     "cellMetadata": {
      "byteLimit": 2048000,
      "rowLimit": 10000
     },
     "inputWidgets": {},
     "nuid": "3320b0c8-7db0-4a1b-99a4-1c27010acc33",
     "showTitle": true,
     "tableResultSettingsMap": {},
     "title": "Join Races with Circuits"
    }
   },
   "outputs": [],
   "source": [
    "race_circuits_df = circuit_df.join(races_df, circuit_df.circuit_id == races_df.circuit_id, \"inner\") \\\n",
    ".select(circuit_df.circuit_name, circuit_df.location, circuit_df.country, races_df.race_name, races_df.round)"
   ]
  },
  {
   "cell_type": "code",
   "execution_count": 0,
   "metadata": {
    "application/vnd.databricks.v1+cell": {
     "cellMetadata": {
      "byteLimit": 2048000,
      "rowLimit": 10000
     },
     "inputWidgets": {},
     "nuid": "9a75a29b-8b67-433d-8a66-9dfed360f846",
     "showTitle": false,
     "tableResultSettingsMap": {},
     "title": ""
    }
   },
   "outputs": [],
   "source": [
    "#left outer join\n",
    "race_circuits_df = circuit_df.join(races_df, circuit_df.circuit_id == races_df.circuit_id, \"left\") \\\n",
    ".select(circuit_df.circuit_name, circuit_df.location, circuit_df.country, races_df.race_name, races_df.round)"
   ]
  },
  {
   "cell_type": "code",
   "execution_count": 0,
   "metadata": {
    "application/vnd.databricks.v1+cell": {
     "cellMetadata": {
      "byteLimit": 2048000,
      "rowLimit": 10000
     },
     "inputWidgets": {},
     "nuid": "c352d29d-b12c-4a95-b9c6-7aad3c640511",
     "showTitle": false,
     "tableResultSettingsMap": {},
     "title": ""
    }
   },
   "outputs": [],
   "source": [
    "#right outer join\n",
    "race_circuits_df = circuit_df.join(races_df, circuit_df.circuit_id == races_df.circuit_id, \"right\") \\\n",
    ".select(circuit_df.circuit_name, circuit_df.location, circuit_df.country, races_df.race_name, races_df.round)"
   ]
  },
  {
   "cell_type": "code",
   "execution_count": 0,
   "metadata": {
    "application/vnd.databricks.v1+cell": {
     "cellMetadata": {
      "byteLimit": 2048000,
      "rowLimit": 10000
     },
     "inputWidgets": {},
     "nuid": "d1a45530-8292-48ca-a238-a6832a26e7db",
     "showTitle": false,
     "tableResultSettingsMap": {},
     "title": ""
    }
   },
   "outputs": [],
   "source": [
    "display(race_circuits_df)"
   ]
  },
  {
   "cell_type": "code",
   "execution_count": 0,
   "metadata": {
    "application/vnd.databricks.v1+cell": {
     "cellMetadata": {
      "byteLimit": 2048000,
      "rowLimit": 10000
     },
     "inputWidgets": {},
     "nuid": "5c52a319-6ed4-4e63-8029-ed38385bb6c5",
     "showTitle": false,
     "tableResultSettingsMap": {},
     "title": ""
    }
   },
   "outputs": [],
   "source": [
    "#right outer join\n",
    "race_circuits_df = circuit_df.join(races_df, circuit_df.circuit_id == races_df.circuit_id, \"full\") \\\n",
    ".select(circuit_df.circuit_name, circuit_df.location, circuit_df.country, races_df.race_name, races_df.round)"
   ]
  },
  {
   "cell_type": "code",
   "execution_count": 0,
   "metadata": {
    "application/vnd.databricks.v1+cell": {
     "cellMetadata": {
      "byteLimit": 2048000,
      "rowLimit": 10000
     },
     "inputWidgets": {},
     "nuid": "76c9e04a-fd69-44f6-97bd-e70d5a3aacef",
     "showTitle": false,
     "tableResultSettingsMap": {},
     "title": ""
    }
   },
   "outputs": [],
   "source": [
    "display(race_circuits_df)"
   ]
  }
 ],
 "metadata": {
  "application/vnd.databricks.v1+notebook": {
   "computePreferences": null,
   "dashboards": [],
   "environmentMetadata": {
    "base_environment": "",
    "environment_version": "2"
   },
   "language": "python",
   "notebookMetadata": {
    "pythonIndentUnit": 4
   },
   "notebookName": "2. join_demo",
   "widgets": {}
  },
  "language_info": {
   "name": "python"
  }
 },
 "nbformat": 4,
 "nbformat_minor": 0
}
